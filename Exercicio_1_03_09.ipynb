{
  "nbformat": 4,
  "nbformat_minor": 0,
  "metadata": {
    "colab": {
      "provenance": [],
      "authorship_tag": "ABX9TyNA+oXxAmd5HVGte5XgMnUK",
      "include_colab_link": true
    },
    "kernelspec": {
      "name": "python3",
      "display_name": "Python 3"
    },
    "language_info": {
      "name": "python"
    }
  },
  "cells": [
    {
      "cell_type": "markdown",
      "metadata": {
        "id": "view-in-github",
        "colab_type": "text"
      },
      "source": [
        "<a href=\"https://colab.research.google.com/github/Guinatto1/lp-prof-massaki/blob/main/Exercicio_1_03_09.ipynb\" target=\"_parent\"><img src=\"https://colab.research.google.com/assets/colab-badge.svg\" alt=\"Open In Colab\"/></a>"
      ]
    },
    {
      "cell_type": "markdown",
      "source": [
        "#Ex1 Criar a narrativa, pseudocódigo, fluxograma e código para um programa que receba polegada (p) em seguida calcule e exibir em milimimetros (mm)"
      ],
      "metadata": {
        "id": "n9gHErCJKnJ5"
      }
    },
    {
      "cell_type": "code",
      "source": [
        "P=float(input(\"DIGITE EM POLEGADAS:\"))\n",
        "mm= P* 25.4\n",
        "print(\"valor pol em milimetros=\", mm)\n",
        "\n"
      ],
      "metadata": {
        "colab": {
          "base_uri": "https://localhost:8080/"
        },
        "id": "ZT8qKcQlAg_D",
        "outputId": "cf7e89b0-1a70-429f-a610-6e3acc41a1d4"
      },
      "execution_count": null,
      "outputs": [
        {
          "output_type": "stream",
          "name": "stdout",
          "text": [
            "DIGITE EM POLEGADAS:1.4\n",
            "valor pol em milimetros= 35.559999999999995\n"
          ]
        }
      ]
    },
    {
      "cell_type": "markdown",
      "source": [
        "#Criar a narrativa, pseudocódigo, fluxograma e código para um programa que receba o raio (r) de uma esfera,em seguida calcule e exibir o seu volume (v) desta esfera."
      ],
      "metadata": {
        "id": "7Afmov1TLy03"
      }
    },
    {
      "cell_type": "code",
      "source": [
        "import math\n",
        "raio = float(input(\"Digite o raio da esfera: \"))\n",
        "volume = (4/3) * math.pi * raio**3\n",
        "print(\"O volume da esfera é:\", volume)"
      ],
      "metadata": {
        "colab": {
          "base_uri": "https://localhost:8080/"
        },
        "id": "J8crz1P4E8ZL",
        "outputId": "b004273b-e2bd-4371-d50a-abe280881489"
      },
      "execution_count": null,
      "outputs": [
        {
          "output_type": "stream",
          "name": "stdout",
          "text": [
            "Digite o raio da esfera: 5\n",
            "O volume da esfera é: 523.5987755982989\n"
          ]
        }
      ]
    },
    {
      "cell_type": "markdown",
      "source": [
        "#Criar a narrativa, pseudocódigo, fluxograma e código para um programa que receba um ângulo (g) em graus,e converta este valor para radianos (r)"
      ],
      "metadata": {
        "id": "HJYhE7U3Ls1W"
      }
    },
    {
      "cell_type": "code",
      "source": [
        "import math\n",
        "graus = float(input(\"Digite o ângulo em graus: \"))\n",
        "radianos = graus * math.pi / 180\n",
        "print(\"O ângulo em radianos é:\", radianos)"
      ],
      "metadata": {
        "colab": {
          "base_uri": "https://localhost:8080/"
        },
        "id": "n0234zR7C9qX",
        "outputId": "c24aea23-c82b-4290-cfcb-92c86fcc3e88"
      },
      "execution_count": null,
      "outputs": [
        {
          "output_type": "stream",
          "name": "stdout",
          "text": [
            "Digite o ângulo em graus: 30\n",
            "O ângulo em radianos é: 0.5235987755982988\n"
          ]
        }
      ]
    },
    {
      "cell_type": "markdown",
      "source": [
        "# Criar a narrativa, pseudocódigo, fluxograma e código para um programa que receba o valor de um ângulo e em radianos, e converta este valor para graus."
      ],
      "metadata": {
        "id": "NiXOMD_2MPvx"
      }
    },
    {
      "cell_type": "code",
      "source": [
        "import math\n",
        "radianos = float(input(\"Digite o ângulo em radianos: \"))\n",
        "graus = radianos * 180 / math.pi\n",
        "print(\"O ângulo em graus é:\", graus)"
      ],
      "metadata": {
        "colab": {
          "base_uri": "https://localhost:8080/"
        },
        "id": "BMk2-I_EGIgo",
        "outputId": "cce27f39-8766-490a-9236-d3e3bd5c907e"
      },
      "execution_count": null,
      "outputs": [
        {
          "output_type": "stream",
          "name": "stdout",
          "text": [
            "Digite o ângulo em radianos: 0.5235987755982988\n",
            "O ângulo em graus é: 29.999999999999996\n"
          ]
        }
      ]
    },
    {
      "cell_type": "code",
      "source": [],
      "metadata": {
        "id": "OSnH1UJGNwiO"
      },
      "execution_count": null,
      "outputs": []
    },
    {
      "cell_type": "markdown",
      "source": [
        "#Criar a narrativa, pseudocódigo, fluxograma e código para um programa que receba ângulo em radianos, e converta este valor para grados. Lembrar que 400 grados equivalem a 27."
      ],
      "metadata": {
        "id": "1oLXAlg4Mc_a"
      }
    },
    {
      "cell_type": "code",
      "source": [
        "import math\n",
        "\n",
        "radianos = float(input(\"Digite o ângulo em radianos: \"))\n",
        "\n",
        "grados = radianos * 400 / (2 * math.pi)\n",
        "\n",
        "print(\"O ângulo em grados é:\", grados)"
      ],
      "metadata": {
        "colab": {
          "base_uri": "https://localhost:8080/"
        },
        "id": "SM3auXxrG8pt",
        "outputId": "78e47766-99aa-4c1a-9ac3-797bdc93eec7"
      },
      "execution_count": null,
      "outputs": [
        {
          "output_type": "stream",
          "name": "stdout",
          "text": [
            "Digite o ângulo em radianos: .5\n",
            "O ângulo em grados é: 31.830988618379067\n"
          ]
        }
      ]
    },
    {
      "cell_type": "code",
      "source": [],
      "metadata": {
        "id": "69wEIyNlI6Jn"
      },
      "execution_count": null,
      "outputs": []
    }
  ]
}